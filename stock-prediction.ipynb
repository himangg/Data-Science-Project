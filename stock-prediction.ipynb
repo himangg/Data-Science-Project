{
 "cells": [
  {
   "cell_type": "code",
   "execution_count": 1,
   "metadata": {
    "execution": {
     "iopub.execute_input": "2024-12-03T14:35:20.315634Z",
     "iopub.status.busy": "2024-12-03T14:35:20.315160Z",
     "iopub.status.idle": "2024-12-03T14:35:21.624812Z",
     "shell.execute_reply": "2024-12-03T14:35:21.623642Z",
     "shell.execute_reply.started": "2024-12-03T14:35:20.315577Z"
    },
    "trusted": true
   },
   "outputs": [],
   "source": [
    "import pandas as pd\n",
    "import numpy as np\n",
    "import matplotlib.pyplot as plt\n",
    "import os\n",
    "import seaborn as sns\n",
    "from sklearn.preprocessing import StandardScaler"
   ]
  },
  {
   "cell_type": "markdown",
   "metadata": {},
   "source": [
    "# Pre-processing"
   ]
  },
  {
   "cell_type": "code",
   "execution_count": 2,
   "metadata": {
    "_cell_guid": "b1076dfc-b9ad-4769-8c92-a6c4dae69d19",
    "_uuid": "8f2839f25d086af736a60e9eeb907d3b93b6e0e5",
    "execution": {
     "iopub.execute_input": "2024-12-03T14:35:21.626888Z",
     "iopub.status.busy": "2024-12-03T14:35:21.626370Z",
     "iopub.status.idle": "2024-12-03T14:35:22.158955Z",
     "shell.execute_reply": "2024-12-03T14:35:22.157745Z",
     "shell.execute_reply.started": "2024-12-03T14:35:21.626851Z"
    },
    "trusted": true
   },
   "outputs": [],
   "source": [
    "dataset=pd.read_csv(r\"NIFTY50_all.csv\")"
   ]
  },
  {
   "cell_type": "markdown",
   "metadata": {},
   "source": [
    "Adding Column for Day of Week, Month, Year, making Date index column"
   ]
  },
  {
   "cell_type": "code",
   "execution_count": 3,
   "metadata": {
    "execution": {
     "iopub.execute_input": "2024-12-03T14:35:22.161570Z",
     "iopub.status.busy": "2024-12-03T14:35:22.161222Z",
     "iopub.status.idle": "2024-12-03T14:35:22.536354Z",
     "shell.execute_reply": "2024-12-03T14:35:22.535141Z",
     "shell.execute_reply.started": "2024-12-03T14:35:22.161535Z"
    },
    "trusted": true
   },
   "outputs": [],
   "source": [
    "dataset=dataset.sort_values(by=\"Date\")\n",
    "dataset[\"Date\"]=pd.to_datetime(dataset[\"Date\"], format=\"%Y-%m-%d\")\n",
    "dataset[\"Day\"]=dataset[\"Date\"].dt.day_name()\n",
    "dataset[\"Month\"]=dataset[\"Date\"].dt.month\n",
    "dataset[\"Year\"]=dataset[\"Date\"].dt.year\n",
    "# dataset.set_index(\"Date\",inplace=True)"
   ]
  },
  {
   "cell_type": "markdown",
   "metadata": {},
   "source": [
    "We can see that there are companies which have more than one symbol. Thus we need to change that to a single symbol."
   ]
  },
  {
   "cell_type": "code",
   "execution_count": 4,
   "metadata": {
    "execution": {
     "iopub.execute_input": "2024-12-03T14:35:22.538186Z",
     "iopub.status.busy": "2024-12-03T14:35:22.537742Z",
     "iopub.status.idle": "2024-12-03T14:35:22.873471Z",
     "shell.execute_reply": "2024-12-03T14:35:22.872234Z",
     "shell.execute_reply.started": "2024-12-03T14:35:22.538137Z"
    },
    "trusted": true
   },
   "outputs": [],
   "source": [
    "dataset['Symbol']=dataset['Symbol'].replace('KOTAKMAH','KOTAKBANK')\n",
    "dataset['Symbol']=dataset['Symbol'].replace('TELCO','TATAMOTORS')\n",
    "dataset['Symbol']=dataset['Symbol'].replace('JSWSTL','JSWSTEEL')\n",
    "dataset['Symbol']=dataset['Symbol'].replace('TISCO','TATASTEEL')\n",
    "dataset['Symbol']=dataset['Symbol'].replace('BHARTI','BHARTIARTL')\n",
    "dataset['Symbol']=dataset['Symbol'].replace('ZEETELE','ZEEL')\n",
    "dataset['Symbol']=dataset['Symbol'].replace('HINDLEVER','HINDUNILVR')\n",
    "dataset['Symbol']=dataset['Symbol'].replace('UTIBANK','AXISBANK')\n",
    "dataset['Symbol']=dataset['Symbol'].replace('HINDALC0','HINDALCO')\n",
    "dataset['Symbol']=dataset['Symbol'].replace('INFOSYSTCH','INFY')\n",
    "dataset['Symbol']=dataset['Symbol'].replace('HEROHONDA','HEROMOTOCO')\n",
    "dataset['Symbol']=dataset['Symbol'].replace('SESAGOA','VEDL')\n",
    "dataset['Symbol']=dataset['Symbol'].replace('SSLT','VEDL')\n",
    "dataset['Symbol']=dataset['Symbol'].replace('MUNDRAPORT','ADANIPORTS')\n",
    "dataset['Symbol']=dataset['Symbol'].replace('UNIPHOS','UPL')\n",
    "dataset['Symbol']=dataset['Symbol'].replace('BAJAUTOFIN','BAJFINANCE')"
   ]
  },
  {
   "cell_type": "code",
   "execution_count": 6,
   "metadata": {
    "execution": {
     "iopub.execute_input": "2024-12-03T14:35:22.875292Z",
     "iopub.status.busy": "2024-12-03T14:35:22.874935Z",
     "iopub.status.idle": "2024-12-03T14:35:22.979572Z",
     "shell.execute_reply": "2024-12-03T14:35:22.978442Z",
     "shell.execute_reply.started": "2024-12-03T14:35:22.875257Z"
    },
    "trusted": true
   },
   "outputs": [],
   "source": [
    "df = pd.read_csv(r\"Stock Metadata.csv\")\n",
    "dataset = pd.merge(dataset, df, on='Symbol')"
   ]
  },
  {
   "cell_type": "markdown",
   "metadata": {},
   "source": [
    "We see that Trades, Deliverable Volume, %Deliverable have some null values which will need to be handled during pre-processing."
   ]
  },
  {
   "cell_type": "code",
   "execution_count": 7,
   "metadata": {
    "execution": {
     "iopub.execute_input": "2024-12-03T14:35:22.981280Z",
     "iopub.status.busy": "2024-12-03T14:35:22.980935Z",
     "iopub.status.idle": "2024-12-03T14:35:23.307545Z",
     "shell.execute_reply": "2024-12-03T14:35:23.306408Z",
     "shell.execute_reply.started": "2024-12-03T14:35:22.981246Z"
    },
    "trusted": true
   },
   "outputs": [
    {
     "name": "stdout",
     "output_type": "stream",
     "text": [
      "<class 'pandas.core.frame.DataFrame'>\n",
      "RangeIndex: 235192 entries, 0 to 235191\n",
      "Data columns (total 22 columns):\n",
      " #   Column              Non-Null Count   Dtype         \n",
      "---  ------              --------------   -----         \n",
      " 0   Date                235192 non-null  datetime64[ns]\n",
      " 1   Symbol              235192 non-null  object        \n",
      " 2   Series_x            235192 non-null  object        \n",
      " 3   Prev Close          235192 non-null  float64       \n",
      " 4   Open                235192 non-null  float64       \n",
      " 5   High                235192 non-null  float64       \n",
      " 6   Low                 235192 non-null  float64       \n",
      " 7   Last                235192 non-null  float64       \n",
      " 8   Close               235192 non-null  float64       \n",
      " 9   VWAP                235192 non-null  float64       \n",
      " 10  Volume              235192 non-null  int64         \n",
      " 11  Turnover            235192 non-null  float64       \n",
      " 12  Trades              235192 non-null  float64       \n",
      " 13  Deliverable Volume  235192 non-null  float64       \n",
      " 14  %Deliverble         235192 non-null  float64       \n",
      " 15  Day                 235192 non-null  object        \n",
      " 16  Month               235192 non-null  int32         \n",
      " 17  Year                235192 non-null  int32         \n",
      " 18  Company Name        235192 non-null  object        \n",
      " 19  Industry            235192 non-null  object        \n",
      " 20  Series_y            235192 non-null  object        \n",
      " 21  ISIN Code           235192 non-null  object        \n",
      "dtypes: datetime64[ns](1), float64(11), int32(2), int64(1), object(7)\n",
      "memory usage: 37.7+ MB\n"
     ]
    }
   ],
   "source": [
    "#Interpolate the missing values using linear interpolation groupby Symbol\n",
    "def interpolation_func(data):\n",
    "    return data.interpolate(method=\"linear\",limit_direction=\"both\")\n",
    "    \n",
    "dataset['Trades'] = dataset.groupby('Symbol')['Trades'].transform(interpolation_func)\n",
    "dataset['Deliverable Volume'] = dataset.groupby('Symbol')['Deliverable Volume'].transform(interpolation_func)\n",
    "dataset['%Deliverble'] = dataset.groupby('Symbol')['%Deliverble'].transform(interpolation_func)\n",
    "\n",
    "dataset.info()"
   ]
  },
  {
   "cell_type": "markdown",
   "metadata": {},
   "source": [
    "Creating Returns, Moving Average, Volatility columns"
   ]
  },
  {
   "cell_type": "code",
   "execution_count": 8,
   "metadata": {
    "execution": {
     "iopub.execute_input": "2024-12-03T14:35:23.309263Z",
     "iopub.status.busy": "2024-12-03T14:35:23.308959Z",
     "iopub.status.idle": "2024-12-03T14:35:23.500740Z",
     "shell.execute_reply": "2024-12-03T14:35:23.499554Z",
     "shell.execute_reply.started": "2024-12-03T14:35:23.309233Z"
    },
    "trusted": true
   },
   "outputs": [],
   "source": [
    "# Creating column returns\n",
    "dataset['Returns'] = dataset.groupby('Symbol')['Close'].pct_change()\n",
    "\n",
    "def mov_avg_20(data):\n",
    "    return data.rolling(window=20).mean()\n",
    "\n",
    "def volatility_func(data):\n",
    "    return data.rolling(window=20).std()\n",
    "\n",
    "# Calculate the 20-day moving average of the closing prices\n",
    "dataset['MA20'] = dataset.groupby('Symbol')['Close'].transform(mov_avg_20)\n",
    "dataset['Volatility'] = dataset.groupby('Symbol')['Returns'].transform(volatility_func)*100"
   ]
  },
  {
   "cell_type": "markdown",
   "metadata": {},
   "source": [
    "# Hypothesis Testing"
   ]
  },
  {
   "cell_type": "markdown",
   "metadata": {},
   "source": [
    "1. Day-of-the-Week Effect on Price Changes (ANOVA Test)\n",
    "- Objective: Test if average price changes vary across the days of the week (e.g., Monday vs. Friday).\n",
    "- Test Used: ANOVA (Analysis of Variance) Test.\n",
    "- Null Hypothesis (H0): The mean returns is the same across all days of the week.\n",
    "- Alternative Hypothesis (H1): The mean returns differs across at least one day of the week.\n",
    "- Interpretation: A significant result (p < 0.05) suggests that returns differ by day of the week, indicating a possible day-of-the-week effect. This insight could inform time-aware prediction models."
   ]
  },
  {
   "cell_type": "code",
   "execution_count": 10,
   "metadata": {
    "execution": {
     "iopub.execute_input": "2024-12-03T14:35:23.502405Z",
     "iopub.status.busy": "2024-12-03T14:35:23.502062Z",
     "iopub.status.idle": "2024-12-03T14:35:23.708369Z",
     "shell.execute_reply": "2024-12-03T14:35:23.707236Z",
     "shell.execute_reply.started": "2024-12-03T14:35:23.502370Z"
    },
    "trusted": true
   },
   "outputs": [
    {
     "name": "stdout",
     "output_type": "stream",
     "text": [
      "F-statistic: 11.381359991454604, P-value: 9.21195491318902e-13\n",
      "Reject the null hypothesis - There is a significant difference in returns between days of the week\n"
     ]
    }
   ],
   "source": [
    "from scipy.stats import f_oneway\n",
    "\n",
    "# Grouping returns by day of the week\n",
    "groups = [dataset[dataset['Day']==day]['Returns'].dropna() for day in dataset['Day'].unique()]\n",
    "\n",
    "# Perform ANOVA test\n",
    "f_stat, p_value = f_oneway(*groups)\n",
    "print(f\"F-statistic: {f_stat}, P-value: {p_value}\")\n",
    "\n",
    "if p_value < 0.05:\n",
    "    print(\"Reject the null hypothesis - There is a significant difference in returns between days of the week\")\n",
    "else:\n",
    "    print(\"Fail to reject the null hypothesis - There is no significant difference in returns between days of the week\")"
   ]
  },
  {
   "cell_type": "markdown",
   "metadata": {},
   "source": [
    "2. Seasonality Test (Chi-Square Test)\n",
    "\n",
    "- Objective: Test if there is a significant seasonality effect in monthly returns.\n",
    "- Test Used: Chi-Square Test for Goodness of Fit\n",
    "- Null Hypothesis (H0): There is no seasonality effect; monthly returns are uniformly distributed.\n",
    "- Alternative Hypothesis (H1): There is a seasonality effect; monthly returns are not uniformly distributed.\n",
    "- Interpretation: A significant result (p < 0.05) implies seasonality in returns."
   ]
  },
  {
   "cell_type": "code",
   "execution_count": 11,
   "metadata": {
    "execution": {
     "iopub.execute_input": "2024-12-03T14:35:23.712359Z",
     "iopub.status.busy": "2024-12-03T14:35:23.711972Z",
     "iopub.status.idle": "2024-12-03T14:35:23.725830Z",
     "shell.execute_reply": "2024-12-03T14:35:23.724646Z",
     "shell.execute_reply.started": "2024-12-03T14:35:23.712323Z"
    },
    "trusted": true
   },
   "outputs": [
    {
     "name": "stdout",
     "output_type": "stream",
     "text": [
      "Chi-Square Statistic: 0.006207301881932313, p-value: 0.9999999999999999\n",
      "Fail to reject the null hypothesis - No significant seasonality effect\n"
     ]
    }
   ],
   "source": [
    "import scipy.stats as stats\n",
    "\n",
    "monthly_returns = dataset.groupby('Month')['Returns'].mean()\n",
    "\n",
    "chi_square, p_val = stats.chisquare(monthly_returns.dropna())\n",
    "print(f'Chi-Square Statistic: {chi_square}, p-value: {p_val}')\n",
    "\n",
    "if p_val < 0.05:\n",
    "    print(\"Reject the null hypothesis - There is a seasonality effect\")\n",
    "else:\n",
    "    print(\"Fail to reject the null hypothesis - No significant seasonality effect\")"
   ]
  },
  {
   "cell_type": "markdown",
   "metadata": {},
   "source": [
    "3. Test for proportion of days with positive returns\n",
    "- Objective: To test if the proportion of days with positive returns differs significantly from a hypothesized benchmark (e.g., 50%).\n",
    "- Test Used: Z-test for proportions\n",
    "- Null Hypothesis (H0): The proportion of days with positive returns is 0.5.\n",
    "- Alternative Hypothesis (H1): The proportion of days with positive returns is not 0.5.\n",
    "- Interpretation: A significant result (p < 0.05) indicates that the observed proportion of days with positive returns differs from the hypothesized benchmark."
   ]
  },
  {
   "cell_type": "code",
   "execution_count": 12,
   "metadata": {
    "execution": {
     "iopub.execute_input": "2024-12-03T14:35:23.727826Z",
     "iopub.status.busy": "2024-12-03T14:35:23.727445Z",
     "iopub.status.idle": "2024-12-03T14:35:23.742548Z",
     "shell.execute_reply": "2024-12-03T14:35:23.741329Z",
     "shell.execute_reply.started": "2024-12-03T14:35:23.727792Z"
    },
    "trusted": true
   },
   "outputs": [
    {
     "name": "stdout",
     "output_type": "stream",
     "text": [
      "Z-Test Statistic: 3.380052736929364, P-value: 0.0007247192262087429\n",
      "Reject the null hypothesis - Proportion of positive returns differs from 50%.\n"
     ]
    }
   ],
   "source": [
    "from statsmodels.stats.proportion import proportions_ztest\n",
    "\n",
    "positive_days = (dataset['Returns']>0).sum()\n",
    "total_days = dataset['Returns'].notnull().sum()\n",
    "z_stat,p_value = proportions_ztest(positive_days, total_days, 0.5)\n",
    "print(f\"Z-Test Statistic: {z_stat}, P-value: {p_value}\")\n",
    "\n",
    "if p_value < 0.05:\n",
    "    print(\"Reject the null hypothesis - Proportion of positive returns differs from 50%.\")\n",
    "else:\n",
    "    print(\"Fail to reject the null hypothesis - Proportion of positive returns is not significantly different from 50%.\")"
   ]
  },
  {
   "cell_type": "markdown",
   "metadata": {},
   "source": [
    "4. Check if average returns of two different time periods are significantly different\n",
    "- Objective: To test if the average returns of two different time periods (e.g., pre- and post-specific event or two different years) are significantly different.\n",
    "- Test Used: T-Test for Two Means\n",
    "- Null Hypothesis (H0): The mean returns of the two periods are equal.\n",
    "- Alternative Hypothesis (H1): The mean returns of the two periods are not equal.\n",
    "- Interpretation: A significant result (p < 0.05) implies a notable difference in mean returns between the two periods."
   ]
  },
  {
   "cell_type": "code",
   "execution_count": 13,
   "metadata": {
    "execution": {
     "iopub.execute_input": "2024-12-03T14:35:23.744482Z",
     "iopub.status.busy": "2024-12-03T14:35:23.744016Z",
     "iopub.status.idle": "2024-12-03T14:35:23.761868Z",
     "shell.execute_reply": "2024-12-03T14:35:23.760657Z",
     "shell.execute_reply.started": "2024-12-03T14:35:23.744445Z"
    },
    "trusted": true
   },
   "outputs": [
    {
     "name": "stdout",
     "output_type": "stream",
     "text": [
      "T-Test Statistic: -13.059977759734448, P-value: 7.687232461476923e-39\n",
      "Reject the null hypothesis; mean returns are significantly different between the two periods.\n"
     ]
    }
   ],
   "source": [
    "from scipy.stats import ttest_ind\n",
    "\n",
    "returns_2008 = dataset[dataset['Year']==2008]['Returns'].dropna()\n",
    "returns_2009 = dataset[dataset['Year']==2009]['Returns'].dropna()\n",
    "\n",
    "t_stat, p_value = ttest_ind(returns_2008, returns_2009)\n",
    "\n",
    "print(f\"T-Test Statistic: {t_stat}, P-value: {p_value}\")\n",
    "\n",
    "if p_value < 0.05:\n",
    "    print(\"Reject the null hypothesis; mean returns are significantly different between the two periods.\")\n",
    "else:\n",
    "    print(\"Fail to reject the null hypothesis; no significant difference in mean returns between the two periods.\")"
   ]
  },
  {
   "cell_type": "markdown",
   "metadata": {},
   "source": [
    "5. Correlation Between Lagged Volume and Price Change (Pearson Correlation Test)\n",
    "\n",
    "- Objective: Test if there is a correlation between the previous day’s trading volume and the current day’s price change.\n",
    "- Test Used: Pearson Correlation Test.\n",
    "- Null Hypothesis (H0): There is no correlation between lagged volume and current price change.\n",
    "- Alternative Hypothesis (H1): There is a correlation between lagged volume and current price change.\n",
    "- Interpretation: A significant result (p < 0.05) with a notable correlation value suggests a relationship between lagged volume and price change, which could be useful for predictive modeling."
   ]
  },
  {
   "cell_type": "code",
   "execution_count": 14,
   "metadata": {
    "execution": {
     "iopub.execute_input": "2024-12-03T14:35:23.764261Z",
     "iopub.status.busy": "2024-12-03T14:35:23.763514Z",
     "iopub.status.idle": "2024-12-03T14:35:23.830591Z",
     "shell.execute_reply": "2024-12-03T14:35:23.829456Z",
     "shell.execute_reply.started": "2024-12-03T14:35:23.764209Z"
    },
    "trusted": true
   },
   "outputs": [
    {
     "name": "stdout",
     "output_type": "stream",
     "text": [
      "Pearson Correlation: 0.0020576070375489574, P-value: 0.3183951648943401\n",
      "Fail to reject the null hypothesis - There is no significant correlation between lagged volume and returns\n"
     ]
    }
   ],
   "source": [
    "from scipy.stats import pearsonr\n",
    "\n",
    "dataset['Lagged Volume'] = dataset['Volume'].shift(1)\n",
    "\n",
    "# Drop any rows with NaN values\n",
    "dataset = dataset.dropna(subset=['Lagged Volume', 'Returns'])\n",
    "\n",
    "# Calculate Pearson correlation between lagged volume and returns\n",
    "corr, p_value = pearsonr(dataset['Lagged Volume'], dataset['Returns'])\n",
    "print(f\"Pearson Correlation: {corr}, P-value: {p_value}\")\n",
    "\n",
    "if p_value < 0.05:\n",
    "    print(\"Reject the null hypothesis - There is a significant correlation between lagged volume and returns\")\n",
    "else:\n",
    "    print(\"Fail to reject the null hypothesis - There is no significant correlation between lagged volume and returns\")\n"
   ]
  },
  {
   "cell_type": "markdown",
   "metadata": {},
   "source": [
    "6.  Impact of Volume on Returns (Independent T-Test)\n",
    "- Objective: Test if high-volume days have significantly larger returns than low-volume days.\n",
    "- Test Used: Independent T-Test\n",
    "- Null Hypothesis (H0): There is no difference in returns between high and low volume days.\n",
    "- Alternative Hypothesis (H1): The average returns on high-volume days is greater than on low-volume days.\n",
    "- Interpretation: A significant result (p < 0.05) suggests that high-volume days are associated with larger returns, indicating a potential relationship between volume and price movement magnitude."
   ]
  },
  {
   "cell_type": "code",
   "execution_count": 15,
   "metadata": {
    "execution": {
     "iopub.execute_input": "2024-12-03T14:35:23.832552Z",
     "iopub.status.busy": "2024-12-03T14:35:23.832087Z",
     "iopub.status.idle": "2024-12-03T14:35:23.895349Z",
     "shell.execute_reply": "2024-12-03T14:35:23.894242Z",
     "shell.execute_reply.started": "2024-12-03T14:35:23.832500Z"
    },
    "trusted": true
   },
   "outputs": [
    {
     "name": "stdout",
     "output_type": "stream",
     "text": [
      "T-statistic: 9.224148233225288, P-value: 2.8814883951596795e-20\n",
      "Reject the null hypothesis - There is a significant difference in returns between high and low volume groups\n"
     ]
    }
   ],
   "source": [
    "from scipy.stats import ttest_ind\n",
    "\n",
    "# Split data into high and low volume groups based on the median volume\n",
    "high_volume = dataset[dataset['Volume'] > dataset['Volume'].median()]['Returns']\n",
    "low_volume = dataset[dataset['Volume'] <= dataset['Volume'].median()]['Returns']\n",
    "\n",
    "t_stat, p_value = ttest_ind(high_volume, low_volume, equal_var=False)\n",
    "print(f\"T-statistic: {t_stat}, P-value: {p_value}\")\n",
    "\n",
    "if p_value < 0.05:\n",
    "    print(\"Reject the null hypothesis - There is a significant difference in returns between high and low volume groups\")\n",
    "else:\n",
    "    print(\"Fail to reject the null hypothesis - There is no significant difference in returns between high and low volume groups\")"
   ]
  },
  {
   "cell_type": "markdown",
   "metadata": {},
   "source": [
    "7. Correlation Between Volume and Deliverable Volume (Pearson Correlation Test)\n",
    "\n",
    "- Objective: Test if there is a correlation between the Volume and Deliverable Volume.\n",
    "- Test Used: Pearson Correlation Test.\n",
    "- Null Hypothesis (H0): There is no correlation between volume and Deliverable Volume.\n",
    "- Alternative Hypothesis (H1): There is a correlation between volume and Deliverable Volume.\n",
    "- Interpretation: A significant result (p < 0.05) with a notable correlation value suggests a relationship between volume and deliverable volume, which could be useful for predictive modeling."
   ]
  },
  {
   "cell_type": "code",
   "execution_count": 16,
   "metadata": {
    "execution": {
     "iopub.execute_input": "2024-12-03T14:35:23.896895Z",
     "iopub.status.busy": "2024-12-03T14:35:23.896552Z",
     "iopub.status.idle": "2024-12-03T14:35:23.911239Z",
     "shell.execute_reply": "2024-12-03T14:35:23.909932Z",
     "shell.execute_reply.started": "2024-12-03T14:35:23.896851Z"
    },
    "trusted": true
   },
   "outputs": [
    {
     "name": "stdout",
     "output_type": "stream",
     "text": [
      "Pearson Correlation: 0.8207672278715512, P-value: 0.0\n",
      "Reject the null hypothesis - There is a significant correlation between Volume and Deliverable Volume\n"
     ]
    }
   ],
   "source": [
    "corr, p_value = pearsonr(dataset['Volume'], dataset['Deliverable Volume'])\n",
    "print(f\"Pearson Correlation: {corr}, P-value: {p_value}\")\n",
    "\n",
    "if p_value < 0.05 and corr>0.75:\n",
    "    print(\"Reject the null hypothesis - There is a significant correlation between Volume and Deliverable Volume\")\n",
    "else:\n",
    "    print(\"Fail to reject the null hypothesis - There is no significant correlation between Volume and Deliverable Volume\")"
   ]
  },
  {
   "cell_type": "markdown",
   "metadata": {},
   "source": [
    "8. Correlation Between Trades and Turnover (Pearson Correlation Test)\n",
    "\n",
    "- Objective: Test if there is a correlation between the Trades and Turnover.\n",
    "- Test Used: Pearson Correlation Test.\n",
    "- Null Hypothesis (H0): There is no correlation between Trades and Turnover.\n",
    "- Alternative Hypothesis (H1): There is a correlation between Trades and Turnover.\n",
    "- Interpretation: A significant result (p < 0.05) with a notable correlation value suggests a relationship between Trades and Turnover, which could be useful for predictive modeling."
   ]
  },
  {
   "cell_type": "code",
   "execution_count": 17,
   "metadata": {
    "execution": {
     "iopub.execute_input": "2024-12-03T14:35:23.913410Z",
     "iopub.status.busy": "2024-12-03T14:35:23.912681Z",
     "iopub.status.idle": "2024-12-03T14:35:23.931838Z",
     "shell.execute_reply": "2024-12-03T14:35:23.930667Z",
     "shell.execute_reply.started": "2024-12-03T14:35:23.913368Z"
    },
    "trusted": true
   },
   "outputs": [
    {
     "name": "stdout",
     "output_type": "stream",
     "text": [
      "Pearson Correlation: 0.8117443979422023, P-value: 0.0\n",
      "Reject the null hypothesis - There is a significant correlation between Trades and Turnover\n"
     ]
    }
   ],
   "source": [
    "corr, p_value = pearsonr(dataset['Trades'], dataset['Turnover'])\n",
    "print(f\"Pearson Correlation: {corr}, P-value: {p_value}\")\n",
    "\n",
    "if p_value < 0.05 and corr>0.75:\n",
    "    print(\"Reject the null hypothesis - There is a significant correlation between Trades and Turnover\")\n",
    "else:\n",
    "    print(\"Fail to reject the null hypothesis - There is no significant correlation between Trades and Turnover\")"
   ]
  },
  {
   "cell_type": "markdown",
   "metadata": {},
   "source": [
    "# More Pre-processing"
   ]
  },
  {
   "cell_type": "markdown",
   "metadata": {},
   "source": [
    "Dropped Column Series as always same value.\n",
    "\n",
    "Dropped some other irrelevant columns as we are using average stock prices to get insight into trends of Nifty-50 stock as a whole."
   ]
  },
  {
   "cell_type": "code",
   "execution_count": 18,
   "metadata": {
    "execution": {
     "iopub.execute_input": "2024-12-03T14:35:23.933506Z",
     "iopub.status.busy": "2024-12-03T14:35:23.933157Z",
     "iopub.status.idle": "2024-12-03T14:35:23.980153Z",
     "shell.execute_reply": "2024-12-03T14:35:23.978996Z",
     "shell.execute_reply.started": "2024-12-03T14:35:23.933472Z"
    },
    "trusted": true
   },
   "outputs": [],
   "source": [
    "dataset.drop(columns=[\"Series_x\",\"Series_y\"],inplace=True)\n",
    "dataset.drop(columns=[\"Symbol\",\"Day\",\"Month\",\"Year\",\"Company Name\",\"Industry\"\n",
    "                     ,\"ISIN Code\"],inplace=True)"
   ]
  },
  {
   "cell_type": "markdown",
   "metadata": {},
   "source": [
    "Taking Average of measures of all companies based on dates"
   ]
  },
  {
   "cell_type": "code",
   "execution_count": 19,
   "metadata": {
    "execution": {
     "iopub.execute_input": "2024-12-03T14:35:23.981846Z",
     "iopub.status.busy": "2024-12-03T14:35:23.981461Z",
     "iopub.status.idle": "2024-12-03T14:35:24.027364Z",
     "shell.execute_reply": "2024-12-03T14:35:24.026212Z",
     "shell.execute_reply.started": "2024-12-03T14:35:23.981809Z"
    },
    "trusted": true
   },
   "outputs": [],
   "source": [
    "dataset.set_index(\"Date\",inplace=True)\n",
    "dataset=dataset.groupby(\"Date\").mean()"
   ]
  },
  {
   "cell_type": "code",
   "execution_count": 20,
   "metadata": {
    "execution": {
     "iopub.execute_input": "2024-12-03T14:35:24.029193Z",
     "iopub.status.busy": "2024-12-03T14:35:24.028886Z",
     "iopub.status.idle": "2024-12-03T14:35:24.054408Z",
     "shell.execute_reply": "2024-12-03T14:35:24.053135Z",
     "shell.execute_reply.started": "2024-12-03T14:35:24.029162Z"
    },
    "trusted": true
   },
   "outputs": [
    {
     "data": {
      "text/html": [
       "<div>\n",
       "<style scoped>\n",
       "    .dataframe tbody tr th:only-of-type {\n",
       "        vertical-align: middle;\n",
       "    }\n",
       "\n",
       "    .dataframe tbody tr th {\n",
       "        vertical-align: top;\n",
       "    }\n",
       "\n",
       "    .dataframe thead th {\n",
       "        text-align: right;\n",
       "    }\n",
       "</style>\n",
       "<table border=\"1\" class=\"dataframe\">\n",
       "  <thead>\n",
       "    <tr style=\"text-align: right;\">\n",
       "      <th></th>\n",
       "      <th>Prev Close</th>\n",
       "      <th>Open</th>\n",
       "      <th>High</th>\n",
       "      <th>Low</th>\n",
       "      <th>Last</th>\n",
       "      <th>Close</th>\n",
       "      <th>VWAP</th>\n",
       "      <th>Volume</th>\n",
       "      <th>Turnover</th>\n",
       "      <th>Trades</th>\n",
       "      <th>Deliverable Volume</th>\n",
       "      <th>%Deliverble</th>\n",
       "      <th>Returns</th>\n",
       "      <th>MA20</th>\n",
       "      <th>Volatility</th>\n",
       "      <th>Lagged Volume</th>\n",
       "    </tr>\n",
       "    <tr>\n",
       "      <th>Date</th>\n",
       "      <th></th>\n",
       "      <th></th>\n",
       "      <th></th>\n",
       "      <th></th>\n",
       "      <th></th>\n",
       "      <th></th>\n",
       "      <th></th>\n",
       "      <th></th>\n",
       "      <th></th>\n",
       "      <th></th>\n",
       "      <th></th>\n",
       "      <th></th>\n",
       "      <th></th>\n",
       "      <th></th>\n",
       "      <th></th>\n",
       "      <th></th>\n",
       "    </tr>\n",
       "  </thead>\n",
       "  <tbody>\n",
       "    <tr>\n",
       "      <th>2000-01-04</th>\n",
       "      <td>1046.295455</td>\n",
       "      <td>1101.595455</td>\n",
       "      <td>1113.639394</td>\n",
       "      <td>1061.278788</td>\n",
       "      <td>1097.945455</td>\n",
       "      <td>1096.909091</td>\n",
       "      <td>1087.294848</td>\n",
       "      <td>7.129494e+05</td>\n",
       "      <td>3.568487e+13</td>\n",
       "      <td>27424.727273</td>\n",
       "      <td>60423.242424</td>\n",
       "      <td>0.575027</td>\n",
       "      <td>0.010900</td>\n",
       "      <td>NaN</td>\n",
       "      <td>NaN</td>\n",
       "      <td>6.661462e+05</td>\n",
       "    </tr>\n",
       "    <tr>\n",
       "      <th>2000-01-05</th>\n",
       "      <td>1096.909091</td>\n",
       "      <td>1048.757576</td>\n",
       "      <td>1095.516667</td>\n",
       "      <td>1017.303030</td>\n",
       "      <td>1048.309091</td>\n",
       "      <td>1047.637879</td>\n",
       "      <td>1061.890606</td>\n",
       "      <td>1.453544e+06</td>\n",
       "      <td>7.562085e+13</td>\n",
       "      <td>27424.727273</td>\n",
       "      <td>60423.242424</td>\n",
       "      <td>0.575027</td>\n",
       "      <td>-0.014402</td>\n",
       "      <td>NaN</td>\n",
       "      <td>NaN</td>\n",
       "      <td>1.500045e+06</td>\n",
       "    </tr>\n",
       "    <tr>\n",
       "      <th>2000-01-06</th>\n",
       "      <td>1047.637879</td>\n",
       "      <td>1053.346970</td>\n",
       "      <td>1072.887879</td>\n",
       "      <td>1000.918182</td>\n",
       "      <td>1019.696970</td>\n",
       "      <td>1019.443939</td>\n",
       "      <td>1028.510909</td>\n",
       "      <td>1.061267e+06</td>\n",
       "      <td>4.924700e+13</td>\n",
       "      <td>27424.727273</td>\n",
       "      <td>60423.242424</td>\n",
       "      <td>0.575027</td>\n",
       "      <td>0.021835</td>\n",
       "      <td>NaN</td>\n",
       "      <td>NaN</td>\n",
       "      <td>1.061786e+06</td>\n",
       "    </tr>\n",
       "    <tr>\n",
       "      <th>2000-01-07</th>\n",
       "      <td>1019.443939</td>\n",
       "      <td>980.981818</td>\n",
       "      <td>994.213636</td>\n",
       "      <td>956.634848</td>\n",
       "      <td>971.571212</td>\n",
       "      <td>971.904545</td>\n",
       "      <td>972.593939</td>\n",
       "      <td>1.100421e+06</td>\n",
       "      <td>3.531071e+13</td>\n",
       "      <td>27424.727273</td>\n",
       "      <td>60423.242424</td>\n",
       "      <td>0.575027</td>\n",
       "      <td>-0.008608</td>\n",
       "      <td>NaN</td>\n",
       "      <td>NaN</td>\n",
       "      <td>1.099785e+06</td>\n",
       "    </tr>\n",
       "    <tr>\n",
       "      <th>2000-01-10</th>\n",
       "      <td>971.904545</td>\n",
       "      <td>984.281818</td>\n",
       "      <td>1030.901515</td>\n",
       "      <td>921.724242</td>\n",
       "      <td>987.059091</td>\n",
       "      <td>988.278788</td>\n",
       "      <td>979.329697</td>\n",
       "      <td>9.883309e+05</td>\n",
       "      <td>4.893487e+13</td>\n",
       "      <td>27424.727273</td>\n",
       "      <td>60423.242424</td>\n",
       "      <td>0.575027</td>\n",
       "      <td>0.001361</td>\n",
       "      <td>NaN</td>\n",
       "      <td>NaN</td>\n",
       "      <td>9.858628e+05</td>\n",
       "    </tr>\n",
       "  </tbody>\n",
       "</table>\n",
       "</div>"
      ],
      "text/plain": [
       "             Prev Close         Open         High          Low         Last  \\\n",
       "Date                                                                          \n",
       "2000-01-04  1046.295455  1101.595455  1113.639394  1061.278788  1097.945455   \n",
       "2000-01-05  1096.909091  1048.757576  1095.516667  1017.303030  1048.309091   \n",
       "2000-01-06  1047.637879  1053.346970  1072.887879  1000.918182  1019.696970   \n",
       "2000-01-07  1019.443939   980.981818   994.213636   956.634848   971.571212   \n",
       "2000-01-10   971.904545   984.281818  1030.901515   921.724242   987.059091   \n",
       "\n",
       "                  Close         VWAP        Volume      Turnover  \\\n",
       "Date                                                               \n",
       "2000-01-04  1096.909091  1087.294848  7.129494e+05  3.568487e+13   \n",
       "2000-01-05  1047.637879  1061.890606  1.453544e+06  7.562085e+13   \n",
       "2000-01-06  1019.443939  1028.510909  1.061267e+06  4.924700e+13   \n",
       "2000-01-07   971.904545   972.593939  1.100421e+06  3.531071e+13   \n",
       "2000-01-10   988.278788   979.329697  9.883309e+05  4.893487e+13   \n",
       "\n",
       "                  Trades  Deliverable Volume  %Deliverble   Returns  MA20  \\\n",
       "Date                                                                        \n",
       "2000-01-04  27424.727273        60423.242424     0.575027  0.010900   NaN   \n",
       "2000-01-05  27424.727273        60423.242424     0.575027 -0.014402   NaN   \n",
       "2000-01-06  27424.727273        60423.242424     0.575027  0.021835   NaN   \n",
       "2000-01-07  27424.727273        60423.242424     0.575027 -0.008608   NaN   \n",
       "2000-01-10  27424.727273        60423.242424     0.575027  0.001361   NaN   \n",
       "\n",
       "            Volatility  Lagged Volume  \n",
       "Date                                   \n",
       "2000-01-04         NaN   6.661462e+05  \n",
       "2000-01-05         NaN   1.500045e+06  \n",
       "2000-01-06         NaN   1.061786e+06  \n",
       "2000-01-07         NaN   1.099785e+06  \n",
       "2000-01-10         NaN   9.858628e+05  "
      ]
     },
     "execution_count": 20,
     "metadata": {},
     "output_type": "execute_result"
    }
   ],
   "source": [
    "dataset.head()"
   ]
  },
  {
   "cell_type": "markdown",
   "metadata": {},
   "source": [
    "Removing first 20 rows as lack of previous data for calculating above measures"
   ]
  },
  {
   "cell_type": "code",
   "execution_count": 21,
   "metadata": {
    "execution": {
     "iopub.execute_input": "2024-12-03T14:35:24.056573Z",
     "iopub.status.busy": "2024-12-03T14:35:24.056231Z",
     "iopub.status.idle": "2024-12-03T14:35:24.061290Z",
     "shell.execute_reply": "2024-12-03T14:35:24.060203Z",
     "shell.execute_reply.started": "2024-12-03T14:35:24.056538Z"
    },
    "trusted": true
   },
   "outputs": [],
   "source": [
    "dataset=dataset.iloc[20:]"
   ]
  },
  {
   "cell_type": "code",
   "execution_count": 34,
   "metadata": {
    "execution": {
     "iopub.execute_input": "2024-12-03T14:35:24.062996Z",
     "iopub.status.busy": "2024-12-03T14:35:24.062621Z",
     "iopub.status.idle": "2024-12-03T14:35:24.089039Z",
     "shell.execute_reply": "2024-12-03T14:35:24.087817Z",
     "shell.execute_reply.started": "2024-12-03T14:35:24.062962Z"
    },
    "trusted": true
   },
   "outputs": [
    {
     "data": {
      "text/html": [
       "<div>\n",
       "<style scoped>\n",
       "    .dataframe tbody tr th:only-of-type {\n",
       "        vertical-align: middle;\n",
       "    }\n",
       "\n",
       "    .dataframe tbody tr th {\n",
       "        vertical-align: top;\n",
       "    }\n",
       "\n",
       "    .dataframe thead th {\n",
       "        text-align: right;\n",
       "    }\n",
       "</style>\n",
       "<table border=\"1\" class=\"dataframe\">\n",
       "  <thead>\n",
       "    <tr style=\"text-align: right;\">\n",
       "      <th></th>\n",
       "      <th>Feature_1</th>\n",
       "      <th>Feature_2</th>\n",
       "    </tr>\n",
       "  </thead>\n",
       "  <tbody>\n",
       "    <tr>\n",
       "      <th>0</th>\n",
       "      <td>-3749.377532</td>\n",
       "      <td>-6.126047</td>\n",
       "    </tr>\n",
       "    <tr>\n",
       "      <th>1</th>\n",
       "      <td>-3792.241844</td>\n",
       "      <td>-6.060299</td>\n",
       "    </tr>\n",
       "    <tr>\n",
       "      <th>2</th>\n",
       "      <td>-3834.588407</td>\n",
       "      <td>-5.950001</td>\n",
       "    </tr>\n",
       "    <tr>\n",
       "      <th>3</th>\n",
       "      <td>-3879.974751</td>\n",
       "      <td>-5.761392</td>\n",
       "    </tr>\n",
       "    <tr>\n",
       "      <th>4</th>\n",
       "      <td>-3929.692589</td>\n",
       "      <td>-5.741751</td>\n",
       "    </tr>\n",
       "  </tbody>\n",
       "</table>\n",
       "</div>"
      ],
      "text/plain": [
       "     Feature_1  Feature_2\n",
       "0 -3749.377532  -6.126047\n",
       "1 -3792.241844  -6.060299\n",
       "2 -3834.588407  -5.950001\n",
       "3 -3879.974751  -5.761392\n",
       "4 -3929.692589  -5.741751"
      ]
     },
     "execution_count": 34,
     "metadata": {},
     "output_type": "execute_result"
    }
   ],
   "source": [
    "dataset = pd.read_csv(r\"JL_Sparse/JL_Sparse_2.csv\")\n",
    "dataset.head()"
   ]
  },
  {
   "cell_type": "markdown",
   "metadata": {},
   "source": [
    "Min-Max scaling the dataset"
   ]
  },
  {
   "cell_type": "code",
   "execution_count": 23,
   "metadata": {
    "execution": {
     "iopub.execute_input": "2024-12-03T14:35:24.090945Z",
     "iopub.status.busy": "2024-12-03T14:35:24.090553Z",
     "iopub.status.idle": "2024-12-03T14:35:24.107304Z",
     "shell.execute_reply": "2024-12-03T14:35:24.106124Z",
     "shell.execute_reply.started": "2024-12-03T14:35:24.090908Z"
    },
    "trusted": true
   },
   "outputs": [],
   "source": [
    "from sklearn.preprocessing import MinMaxScaler\n",
    "\n",
    "scaler = MinMaxScaler(feature_range=(0,1))\n",
    "scaled_dataset=scaler.fit_transform(dataset)"
   ]
  },
  {
   "cell_type": "code",
   "execution_count": 24,
   "metadata": {
    "execution": {
     "iopub.execute_input": "2024-12-03T14:35:24.109221Z",
     "iopub.status.busy": "2024-12-03T14:35:24.108753Z",
     "iopub.status.idle": "2024-12-03T14:35:24.119994Z",
     "shell.execute_reply": "2024-12-03T14:35:24.118897Z",
     "shell.execute_reply.started": "2024-12-03T14:35:24.109161Z"
    },
    "trusted": true
   },
   "outputs": [
    {
     "data": {
      "text/plain": [
       "array([[0.23353205, 0.24801905, 0.24964269, 0.24597973, 0.24244001,\n",
       "        0.24193997, 0.2445439 , 0.02452452, 0.02796607, 0.10713059,\n",
       "        0.00307904, 0.44623123, 0.56881823, 0.26931704, 0.58703467,\n",
       "        0.02397161],\n",
       "       [0.24193997, 0.24979409, 0.25073289, 0.24841938, 0.2468028 ,\n",
       "        0.24619931, 0.24754489, 0.02999787, 0.03034011, 0.10713059,\n",
       "        0.00307904, 0.44623123, 0.45292662, 0.26549665, 0.57827881,\n",
       "        0.03075373],\n",
       "       [0.24619931, 0.2534719 , 0.25805827, 0.2512853 , 0.252718  ,\n",
       "        0.25303892, 0.25263373, 0.0219929 , 0.02564066, 0.10713059,\n",
       "        0.00307904, 0.44623123, 0.46133778, 0.26264794, 0.56359025,\n",
       "        0.0216513 ],\n",
       "       [0.25303892, 0.25380413, 0.26432082, 0.25390383, 0.25824462,\n",
       "        0.25995783, 0.25942462, 0.01999558, 0.02247652, 0.10713059,\n",
       "        0.00307904, 0.44623123, 0.45795929, 0.26117371, 0.53847287,\n",
       "        0.01977591],\n",
       "       [0.25995783, 0.25922049, 0.27151063, 0.2576261 , 0.26030863,\n",
       "        0.26052927, 0.26238025, 0.02344901, 0.03016043, 0.10713059,\n",
       "        0.00307904, 0.44623123, 0.44449878, 0.27249273, 0.53585725,\n",
       "        0.02073788]])"
      ]
     },
     "execution_count": 24,
     "metadata": {},
     "output_type": "execute_result"
    }
   ],
   "source": [
    "scaled_dataset[0:5]"
   ]
  },
  {
   "cell_type": "markdown",
   "metadata": {},
   "source": [
    "# Model"
   ]
  },
  {
   "cell_type": "markdown",
   "metadata": {},
   "source": [
    "Splitting into train and test dataset"
   ]
  },
  {
   "cell_type": "code",
   "execution_count": 25,
   "metadata": {
    "execution": {
     "iopub.execute_input": "2024-12-03T14:35:24.121953Z",
     "iopub.status.busy": "2024-12-03T14:35:24.121493Z",
     "iopub.status.idle": "2024-12-03T14:35:24.133593Z",
     "shell.execute_reply": "2024-12-03T14:35:24.132291Z",
     "shell.execute_reply.started": "2024-12-03T14:35:24.121905Z"
    },
    "trusted": true
   },
   "outputs": [],
   "source": [
    "train_indice_lmt=int(len(scaled_dataset)*0.85)\n",
    "Data_Train = scaled_dataset[0:train_indice_lmt,:]\n",
    "Data_Test = scaled_dataset[train_indice_lmt-50:,:]"
   ]
  },
  {
   "cell_type": "code",
   "execution_count": 26,
   "metadata": {
    "execution": {
     "iopub.execute_input": "2024-12-03T14:35:24.135274Z",
     "iopub.status.busy": "2024-12-03T14:35:24.134925Z",
     "iopub.status.idle": "2024-12-03T14:35:24.165643Z",
     "shell.execute_reply": "2024-12-03T14:35:24.164200Z",
     "shell.execute_reply.started": "2024-12-03T14:35:24.135239Z"
    },
    "trusted": true
   },
   "outputs": [],
   "source": [
    "X_Train = []\n",
    "Y_Train = []\n",
    "X_Test = []\n",
    "Y_Test = []\n",
    "\n",
    "for i in range(50,len(Data_Train)):\n",
    "    X_Train.append(Data_Train[i-50:i,:])\n",
    "    Y_Train.append(Data_Train[i,5])     #Predicting Close\n",
    "\n",
    "for i in range(50,len(Data_Test)):\n",
    "    X_Test.append(Data_Test[i-50:i,:])\n",
    "    Y_Test.append(Data_Test[i,5])     #Predicting Close\n",
    "\n",
    "X_Train=np.array(X_Train)\n",
    "Y_Train=np.array(Y_Train)\n",
    "X_Test=np.array(X_Test)\n",
    "Y_Test=np.array(Y_Test)\n",
    "\n",
    "X_Train=X_Train.reshape(X_Train.shape[0],X_Train.shape[1],X_Train.shape[2])\n",
    "X_Test=X_Test.reshape(X_Test.shape[0],X_Test.shape[1],X_Test.shape[2])"
   ]
  },
  {
   "cell_type": "code",
   "execution_count": 27,
   "metadata": {
    "execution": {
     "iopub.execute_input": "2024-12-03T14:35:24.168269Z",
     "iopub.status.busy": "2024-12-03T14:35:24.167304Z",
     "iopub.status.idle": "2024-12-03T14:35:27.484064Z",
     "shell.execute_reply": "2024-12-03T14:35:27.483048Z",
     "shell.execute_reply.started": "2024-12-03T14:35:24.168215Z"
    },
    "trusted": true
   },
   "outputs": [
    {
     "name": "stdout",
     "output_type": "stream",
     "text": [
      "WARNING:tensorflow:From C:\\Users\\himan\\AppData\\Local\\Packages\\PythonSoftwareFoundation.Python.3.11_qbz5n2kfra8p0\\LocalCache\\local-packages\\Python311\\site-packages\\keras\\src\\losses.py:2976: The name tf.losses.sparse_softmax_cross_entropy is deprecated. Please use tf.compat.v1.losses.sparse_softmax_cross_entropy instead.\n",
      "\n"
     ]
    }
   ],
   "source": [
    "from keras.models import Sequential\n",
    "from keras.layers import Dense, LSTM\n",
    "from keras.layers import Dropout\n",
    "from tensorflow.keras.callbacks import Callback\n",
    "from sklearn.metrics import r2_score, mean_squared_error\n",
    "from tensorflow.keras.callbacks import EarlyStopping"
   ]
  },
  {
   "cell_type": "code",
   "execution_count": 28,
   "metadata": {
    "execution": {
     "iopub.execute_input": "2024-12-03T14:35:27.485901Z",
     "iopub.status.busy": "2024-12-03T14:35:27.485320Z",
     "iopub.status.idle": "2024-12-03T14:35:27.490977Z",
     "shell.execute_reply": "2024-12-03T14:35:27.489944Z",
     "shell.execute_reply.started": "2024-12-03T14:35:27.485862Z"
    },
    "trusted": true
   },
   "outputs": [],
   "source": [
    "early_stopping = EarlyStopping(\n",
    "    monitor='val_loss',\n",
    "    patience=5,\n",
    "    mode='min',\n",
    "    min_delta=0.001,\n",
    "    restore_best_weights=True\n",
    ")"
   ]
  },
  {
   "cell_type": "code",
   "execution_count": 29,
   "metadata": {
    "execution": {
     "iopub.execute_input": "2024-12-03T14:35:27.495754Z",
     "iopub.status.busy": "2024-12-03T14:35:27.495362Z",
     "iopub.status.idle": "2024-12-03T14:35:27.516070Z",
     "shell.execute_reply": "2024-12-03T14:35:27.514783Z",
     "shell.execute_reply.started": "2024-12-03T14:35:27.495717Z"
    },
    "trusted": true
   },
   "outputs": [],
   "source": [
    "class Validation_results(Callback):\n",
    "    def __init__(self,X_Train,Y_Train, X_Test, Y_Test):\n",
    "        super().__init__()\n",
    "        self.X_Train = X_Train\n",
    "        self.Y_Train = Y_Train\n",
    "        self.X_Test = X_Test\n",
    "        self.Y_Test = Y_Test\n",
    "        \n",
    "    def on_epoch_end(self,epoch,logs=None):\n",
    "        train_preds=self.model.predict(self.X_Train)\n",
    "        test_preds=self.model.predict(self.X_Test)\n",
    "        r2_score_train=r2_score(self.Y_Train,train_preds)\n",
    "        r2_score_test=r2_score(self.Y_Test,test_preds)\n",
    "        mse_train=mean_squared_error(self.Y_Train,train_preds)\n",
    "        mse_test=mean_squared_error(self.Y_Test,test_preds)\n",
    "        print(f\"Train R2: {r2_score_train}\")\n",
    "        print(f\"Validation R2: {r2_score_test}\")\n",
    "        print(f\"Train MSE: {mse_train}\")\n",
    "        print(f\"Validation MSE: {mse_test}\")\n",
    "\n",
    "\n",
    "r2_score_callback_class_object=Validation_results(X_Train,Y_Train,X_Test,Y_Test)"
   ]
  },
  {
   "cell_type": "code",
   "execution_count": 30,
   "metadata": {
    "execution": {
     "iopub.execute_input": "2024-12-03T14:35:27.517686Z",
     "iopub.status.busy": "2024-12-03T14:35:27.517377Z",
     "iopub.status.idle": "2024-12-03T14:35:27.645963Z",
     "shell.execute_reply": "2024-12-03T14:35:27.644733Z",
     "shell.execute_reply.started": "2024-12-03T14:35:27.517656Z"
    },
    "trusted": true
   },
   "outputs": [
    {
     "name": "stdout",
     "output_type": "stream",
     "text": [
      "WARNING:tensorflow:From C:\\Users\\himan\\AppData\\Local\\Packages\\PythonSoftwareFoundation.Python.3.11_qbz5n2kfra8p0\\LocalCache\\local-packages\\Python311\\site-packages\\keras\\src\\layers\\rnn\\lstm.py:148: The name tf.executing_eagerly_outside_functions is deprecated. Please use tf.compat.v1.executing_eagerly_outside_functions instead.\n",
      "\n"
     ]
    }
   ],
   "source": [
    "lstm_model = Sequential([\n",
    "    LSTM(128,return_sequences=True,input_shape=(50,16),activation=\"relu\"),\n",
    "    Dropout(0.15),\n",
    "    LSTM(64,return_sequences=False,activation=\"relu\"),\n",
    "    Dropout(0.15),\n",
    "    Dense(25,activation=\"relu\"),\n",
    "    Dropout(0.15),\n",
    "    Dense(1)\n",
    "])"
   ]
  },
  {
   "cell_type": "code",
   "execution_count": 31,
   "metadata": {
    "execution": {
     "iopub.execute_input": "2024-12-03T14:35:27.647786Z",
     "iopub.status.busy": "2024-12-03T14:35:27.647390Z",
     "iopub.status.idle": "2024-12-03T14:37:45.289164Z",
     "shell.execute_reply": "2024-12-03T14:37:45.288115Z",
     "shell.execute_reply.started": "2024-12-03T14:35:27.647749Z"
    },
    "trusted": true
   },
   "outputs": [
    {
     "name": "stdout",
     "output_type": "stream",
     "text": [
      "WARNING:tensorflow:From C:\\Users\\himan\\AppData\\Local\\Packages\\PythonSoftwareFoundation.Python.3.11_qbz5n2kfra8p0\\LocalCache\\local-packages\\Python311\\site-packages\\keras\\src\\optimizers\\__init__.py:309: The name tf.train.Optimizer is deprecated. Please use tf.compat.v1.train.Optimizer instead.\n",
      "\n",
      "Epoch 1/20\n",
      "WARNING:tensorflow:From C:\\Users\\himan\\AppData\\Local\\Packages\\PythonSoftwareFoundation.Python.3.11_qbz5n2kfra8p0\\LocalCache\\local-packages\\Python311\\site-packages\\keras\\src\\utils\\tf_utils.py:492: The name tf.ragged.RaggedTensorValue is deprecated. Please use tf.compat.v1.ragged.RaggedTensorValue instead.\n",
      "\n",
      "139/139 [==============================] - 2s 13ms/step\n",
      "25/25 [==============================] - 0s 13ms/step\n",
      "Train R2: 0.9618410820693797\n",
      "Validation R2: -0.11643795231234844\n",
      "Train MSE: 0.002091673846917127\n",
      "Validation MSE: 0.006582058983522783\n",
      "139/139 [==============================] - 10s 57ms/step - loss: 0.0071 - val_loss: 0.0066\n",
      "Epoch 2/20\n",
      "139/139 [==============================] - 2s 14ms/step\n",
      "25/25 [==============================] - 0s 14ms/step\n",
      "Train R2: 0.9942199442134924\n",
      "Validation R2: 0.7186518277718817\n",
      "Train MSE: 0.00031683266135433557\n",
      "Validation MSE: 0.0016587131068737662\n",
      "139/139 [==============================] - 7s 54ms/step - loss: 0.0034 - val_loss: 0.0017\n",
      "Epoch 3/20\n",
      "139/139 [==============================] - 2s 14ms/step\n",
      "25/25 [==============================] - 0s 14ms/step\n",
      "Train R2: 0.9783594459591776\n",
      "Validation R2: 0.5751620853193824\n",
      "Train MSE: 0.0011862228641358456\n",
      "Validation MSE: 0.0025046696120218557\n",
      "139/139 [==============================] - 7s 53ms/step - loss: 0.0025 - val_loss: 0.0025\n",
      "Epoch 4/20\n",
      "139/139 [==============================] - 2s 14ms/step\n",
      "25/25 [==============================] - 0s 15ms/step\n",
      "Train R2: 0.9805624017354668\n",
      "Validation R2: -0.04072175011308654\n",
      "Train MSE: 0.0010654682611998464\n",
      "Validation MSE: 0.006135667396913186\n",
      "139/139 [==============================] - 8s 55ms/step - loss: 0.0025 - val_loss: 0.0061\n",
      "Epoch 5/20\n",
      "139/139 [==============================] - 2s 14ms/step\n",
      "25/25 [==============================] - 0s 13ms/step\n",
      "Train R2: 0.9924209153347623\n",
      "Validation R2: 0.7731649466990113\n",
      "Train MSE: 0.0004154460880329932\n",
      "Validation MSE: 0.0013373261785532087\n",
      "139/139 [==============================] - 7s 53ms/step - loss: 0.0021 - val_loss: 0.0013\n",
      "Epoch 6/20\n",
      "139/139 [==============================] - 2s 14ms/step\n",
      "25/25 [==============================] - 0s 14ms/step\n",
      "Train R2: 0.9944183490094773\n",
      "Validation R2: 0.7883857436540533\n",
      "Train MSE: 0.0003059571401034597\n",
      "Validation MSE: 0.0012475906199161963\n",
      "139/139 [==============================] - 8s 55ms/step - loss: 0.0020 - val_loss: 0.0012\n",
      "Epoch 7/20\n",
      "139/139 [==============================] - 2s 14ms/step\n",
      "25/25 [==============================] - 0s 13ms/step\n",
      "Train R2: 0.9928063951300492\n",
      "Validation R2: 0.6595061966906239\n",
      "Train MSE: 0.00039431608618696135\n",
      "Validation MSE: 0.002007411421534429\n",
      "139/139 [==============================] - 7s 54ms/step - loss: 0.0021 - val_loss: 0.0020\n"
     ]
    }
   ],
   "source": [
    "lstm_model.compile(optimizer='adam',loss='mean_squared_error')\n",
    "\n",
    "history=lstm_model.fit(X_Train,Y_Train,batch_size=32,epochs=10,validation_data=(X_Test,Y_Test),callbacks=[r2_score_callback_class_object,early_stopping])"
   ]
  },
  {
   "cell_type": "markdown",
   "metadata": {},
   "source": [
    "Printing Stats of best selected model (Early stopping model)"
   ]
  },
  {
   "cell_type": "code",
   "execution_count": 32,
   "metadata": {
    "execution": {
     "iopub.execute_input": "2024-12-03T14:37:45.291510Z",
     "iopub.status.busy": "2024-12-03T14:37:45.291065Z",
     "iopub.status.idle": "2024-12-03T14:37:49.843265Z",
     "shell.execute_reply": "2024-12-03T14:37:49.842031Z",
     "shell.execute_reply.started": "2024-12-03T14:37:45.291460Z"
    },
    "trusted": true
   },
   "outputs": [
    {
     "name": "stdout",
     "output_type": "stream",
     "text": [
      "  5/139 [>.............................] - ETA: 2s"
     ]
    },
    {
     "name": "stderr",
     "output_type": "stream",
     "text": [
      "C:\\Users\\himan\\AppData\\Local\\Packages\\PythonSoftwareFoundation.Python.3.11_qbz5n2kfra8p0\\LocalCache\\local-packages\\Python311\\site-packages\\keras\\src\\engine\\training.py:3103: UserWarning: You are saving your model as an HDF5 file via `model.save()`. This file format is considered legacy. We recommend using instead the native Keras format, e.g. `model.save('my_model.keras')`.\n",
      "  saving_api.save_model(\n"
     ]
    },
    {
     "name": "stdout",
     "output_type": "stream",
     "text": [
      "139/139 [==============================] - 2s 14ms/step\n",
      "25/25 [==============================] - 0s 14ms/step\n",
      "Train R2: 0.9942199442134924\n",
      "Validation R2: 0.7186518277718817\n",
      "Train MSE: 0.00031683266135433557\n",
      "Validation MSE: 0.0016587131068737662\n"
     ]
    }
   ],
   "source": [
    "lstm_model.save(\"model.h5\")\n",
    "\n",
    "train_preds=lstm_model.predict(X_Train)\n",
    "test_preds=lstm_model.predict(X_Test)\n",
    "r2_score_train=r2_score(Y_Train,train_preds)\n",
    "r2_score_test=r2_score(Y_Test,test_preds)\n",
    "mse_train=mean_squared_error(Y_Train,train_preds)\n",
    "mse_test=mean_squared_error(Y_Test,test_preds)\n",
    "print(f\"Train R2: {r2_score_train}\")\n",
    "print(f\"Validation R2: {r2_score_test}\")\n",
    "print(f\"Train MSE: {mse_train}\")\n",
    "print(f\"Validation MSE: {mse_test}\")"
   ]
  },
  {
   "cell_type": "code",
   "execution_count": 33,
   "metadata": {
    "execution": {
     "iopub.execute_input": "2024-12-03T14:37:49.845908Z",
     "iopub.status.busy": "2024-12-03T14:37:49.845249Z",
     "iopub.status.idle": "2024-12-03T14:37:50.175390Z",
     "shell.execute_reply": "2024-12-03T14:37:50.174240Z",
     "shell.execute_reply.started": "2024-12-03T14:37:49.845864Z"
    },
    "trusted": true
   },
   "outputs": [
    {
     "data": {
      "image/png": "[encoded data removed]",
      "text/plain": [
       "<Figure size 600x600 with 1 Axes>"
      ]
     },
     "metadata": {},
     "output_type": "display_data"
    }
   ],
   "source": [
    "import matplotlib.pyplot as plt\n",
    "\n",
    "training_mses=history.history['loss']\n",
    "val_mses=history.history['val_loss']\n",
    "\n",
    "plt.figure(figsize=(6, 6))\n",
    "plt.plot(training_mses,label='Training Loss')\n",
    "plt.plot(val_mses,label='Validation Loss')\n",
    "plt.title('Training vs Validation Losses')\n",
    "plt.xlabel('Epochs')\n",
    "plt.ylabel('Loss')\n",
    "\n",
    "plt.legend()\n",
    "plt.show()\n"
   ]
  }
 ],
 "metadata": {
  "kaggle": {
   "accelerator": "none",
   "dataSources": [
    {
     "datasetId": 423609,
     "sourceId": 2179861,
     "sourceType": "datasetVersion"
    }
   ],
   "dockerImageVersionId": 30804,
   "isGpuEnabled": false,
   "isInternetEnabled": true,
   "language": "python",
   "sourceType": "notebook"
  },
  "kernelspec": {
   "display_name": "Python 3",
   "language": "python",
   "name": "python3"
  },
  "language_info": {
   "codemirror_mode": {
    "name": "ipython",
    "version": 3
   },
   "file_extension": ".py",
   "mimetype": "text/x-python",
   "name": "python",
   "nbconvert_exporter": "python",
   "pygments_lexer": "ipython3",
   "version": "3.11.9"
  }
 },
 "nbformat": 4,
 "nbformat_minor": 4
}
