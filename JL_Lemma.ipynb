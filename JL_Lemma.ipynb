{
 "cells": [
  {
   "cell_type": "code",
   "execution_count": 21,
   "metadata": {},
   "outputs": [],
   "source": [
    "import pandas as pd \n",
    "\n",
    "dataset = pd.read_csv('Hello.csv')"
   ]
  },
  {
   "cell_type": "code",
   "execution_count": 22,
   "metadata": {},
   "outputs": [
    {
     "name": "stdout",
     "output_type": "stream",
     "text": [
      "         Date  Prev Close        Open        High         Low        Last  \\\n",
      "0  2000-02-02  877.822059  913.045588  927.626471  886.819118  898.251471   \n",
      "1  2000-02-03  897.469118  917.194118  930.204412  892.475000  908.472059   \n",
      "2  2000-02-04  907.422059  925.789706  947.526471  899.119118  922.329412   \n",
      "3  2000-02-07  923.404412  926.566176  962.335294  905.189706  935.276471   \n",
      "4  2000-02-08  939.572059  939.225000  979.336765  913.819118  940.111765   \n",
      "\n",
      "        Close        VWAP         Volume      Turnover        Trades  \\\n",
      "0  897.469118  903.465882  712133.000000  4.469791e+13  26760.617647   \n",
      "1  907.422059  910.472941  868138.764706  4.842632e+13  26760.617647   \n",
      "2  923.404412  922.355000  639974.852941  4.104588e+13  26760.617647   \n",
      "3  939.572059  938.211176  583045.529412  3.607663e+13  26760.617647   \n",
      "4  940.907353  945.112353  681478.029412  4.814413e+13  26760.617647   \n",
      "\n",
      "   Deliverable Volume  %Deliverble   Returns        MA20  Volatility  \\\n",
      "0        65993.970588     0.560282  0.028956  944.542879    4.402228   \n",
      "1        65993.970588     0.560282 -0.003301  935.942576    4.354980   \n",
      "2        65993.970588     0.560282 -0.000960  929.529697    4.275719   \n",
      "3        65993.970588     0.560282 -0.001900  926.210985    4.140183   \n",
      "4        65993.970588     0.560282 -0.005647  951.691838    4.126069   \n",
      "\n",
      "   Lagged Volume  \n",
      "0  707123.323529  \n",
      "1  903454.794118  \n",
      "2  639954.264706  \n",
      "3  585664.823529  \n",
      "4  613512.294118  \n",
      "<class 'pandas.core.frame.DataFrame'>\n",
      "RangeIndex: 5285 entries, 0 to 5284\n",
      "Data columns (total 17 columns):\n",
      " #   Column              Non-Null Count  Dtype  \n",
      "---  ------              --------------  -----  \n",
      " 0   Date                5285 non-null   object \n",
      " 1   Prev Close          5285 non-null   float64\n",
      " 2   Open                5285 non-null   float64\n",
      " 3   High                5285 non-null   float64\n",
      " 4   Low                 5285 non-null   float64\n",
      " 5   Last                5285 non-null   float64\n",
      " 6   Close               5285 non-null   float64\n",
      " 7   VWAP                5285 non-null   float64\n",
      " 8   Volume              5285 non-null   float64\n",
      " 9   Turnover            5285 non-null   float64\n",
      " 10  Trades              5285 non-null   float64\n",
      " 11  Deliverable Volume  5285 non-null   float64\n",
      " 12  %Deliverble         5285 non-null   float64\n",
      " 13  Returns             5285 non-null   float64\n",
      " 14  MA20                5285 non-null   float64\n",
      " 15  Volatility          5285 non-null   float64\n",
      " 16  Lagged Volume       5285 non-null   float64\n",
      "dtypes: float64(16), object(1)\n",
      "memory usage: 702.0+ KB\n",
      "None\n",
      "        Prev Close         Open         High          Low         Last  \\\n",
      "count  5285.000000  5285.000000  5285.000000  5285.000000  5285.000000   \n",
      "mean   1203.626562  1205.140495  1223.332202  1185.524954  1203.798458   \n",
      "std     688.902121   689.799498   696.709797   681.968807   688.998716   \n",
      "min     332.120000   333.388571   337.305714   316.560000   330.294286   \n",
      "25%     649.040541   649.943333   663.860714   634.795946   649.132432   \n",
      "50%     969.577551   969.067021   987.192857   954.208163   970.131633   \n",
      "75%    1845.795918  1847.971429  1875.263265  1818.472449  1846.758163   \n",
      "max    2668.853061  2670.535714  2701.968367  2634.877551  2672.965306   \n",
      "\n",
      "             Close         VWAP        Volume      Turnover         Trades  \\\n",
      "count  5285.000000  5285.000000  5.285000e+03  5.285000e+03    5285.000000   \n",
      "mean   1203.946609  1204.517754  2.858100e+06  1.506451e+14   43646.942567   \n",
      "std     689.132127   689.253177  3.140966e+06  1.626084e+14   30015.963168   \n",
      "min     332.120000   332.475143  1.311572e+04  7.774970e+11    1764.061224   \n",
      "25%     649.040541   648.143667  1.153590e+06  5.814042e+13   27354.571429   \n",
      "50%     969.577551   969.541224  1.834012e+06  1.042947e+14   28877.157895   \n",
      "75%    1845.921429  1845.730000  3.116296e+06  1.628384e+14   47128.897959   \n",
      "max    2668.853061  2667.396327  2.851591e+07  1.571267e+15  235091.979592   \n",
      "\n",
      "       Deliverable Volume  %Deliverble      Returns         MA20   Volatility  \\\n",
      "count        5.285000e+03  5285.000000  5285.000000  5285.000000  5285.000000   \n",
      "mean         1.144882e+06     0.507127     0.000690  1201.223238     2.312772   \n",
      "std          1.083251e+06     0.072443     0.013611   685.811935     0.810199   \n",
      "min          2.389880e+04     0.215353    -0.129367   338.268714     1.234529   \n",
      "25%          4.154488e+05     0.473921    -0.005720   649.227202     1.770308   \n",
      "50%          8.740860e+05     0.526491     0.001260   969.356276     2.057463   \n",
      "75%          1.534745e+06     0.551795     0.007892  1844.202704     2.602403   \n",
      "max          1.369542e+07     0.988336     0.148970  2589.422806     6.630631   \n",
      "\n",
      "       Lagged Volume  \n",
      "count   5.285000e+03  \n",
      "mean    2.863610e+06  \n",
      "std     3.144900e+06  \n",
      "min     1.318406e+04  \n",
      "25%     1.161627e+06  \n",
      "50%     1.850971e+06  \n",
      "75%     3.130570e+06  \n",
      "max     2.896157e+07  \n"
     ]
    }
   ],
   "source": [
    "print(dataset.head())\n",
    "print(dataset.info())\n",
    "print(dataset.describe())"
   ]
  },
  {
   "cell_type": "code",
   "execution_count": 32,
   "metadata": {},
   "outputs": [
    {
     "name": "stdout",
     "output_type": "stream",
     "text": [
      "(5285, 15)\n"
     ]
    }
   ],
   "source": [
    "X_train = dataset.drop(columns=['Date', 'Close'])\n",
    "y_train = dataset['Close']\n",
    "print(X_train.shape)\n",
    "# print(y_train.shape)"
   ]
  },
  {
   "cell_type": "code",
   "execution_count": null,
   "metadata": {},
   "outputs": [
    {
     "name": "stdout",
     "output_type": "stream",
     "text": [
      "5\n"
     ]
    }
   ],
   "source": [
    "import math \n",
    "from sklearn.random_projection import SparseRandomProjection\n",
    "from sklearn.random_projection import GaussianRandomProjection\n",
    "\n",
    "n = X_train.shape[0]\n",
    "eps = 0.1\n",
    "\n",
    "k = 5\n",
    "print(k)"
   ]
  },
  {
   "cell_type": "code",
   "execution_count": 53,
   "metadata": {},
   "outputs": [],
   "source": [
    "# import stock-prediction.ipynb\n",
    "\n",
    "Ks = [1, 2, 3, 4, 5, 6, 7, 8, 9, 10, 11, 12, 13, 14]\n",
    "\n",
    "for k in Ks:\n",
    "    # print(k)\n",
    "    # gaussian random projection\n",
    "    random_projection = GaussianRandomProjection(n_components=k, random_state=42)\n",
    "    reduced_data = random_projection.fit_transform(X_train)\n",
    "\n",
    "    reduced_df = pd.DataFrame(reduced_data, columns=[f\"Feature_{i+1}\" for i in range(reduced_data.shape[1])])\n",
    "    reduced_df['Close'] = y_train\n",
    "    reduced_df.to_csv(f'JL_Gaussian\\JL_Gaussian_{k}.csv', index=False)\n",
    "\n",
    "    # sparse random projection\n",
    "    random_projection = SparseRandomProjection(n_components=k, random_state=42)\n",
    "    reduced_data = random_projection.fit_transform(X_train)\n",
    "    reduced_df['Close'] = y_train\n",
    "    reduced_df = pd.DataFrame(reduced_data, columns=[f\"Feature_{i+1}\" for i in range(reduced_data.shape[1])])\n",
    "    reduced_df.to_csv(f'JL_Sparse\\JL_Sparse_{k}.csv', index=False)"
   ]
  },
  {
   "cell_type": "code",
   "execution_count": null,
   "metadata": {},
   "outputs": [
    {
     "name": "stdout",
     "output_type": "stream",
     "text": [
      "(5285, 5)\n"
     ]
    }
   ],
   "source": [
    "# random_projection = GaussianRandomProjection(n_components=k, random_state=42)\n",
    "# reduced_data = random_projection.fit_transform(X_train)\n",
    "\n",
    "# print(reduced_data.shape)\n",
    "\n",
    "# reduced_df = pd.DataFrame(reduced_data, columns=[f\"Feature_{i+1}\" for i in range(reduced_data.shape[1])])\n",
    "# reduced_df.to_csv('JL_Gaussian.csv', index=False)"
   ]
  },
  {
   "cell_type": "code",
   "execution_count": null,
   "metadata": {},
   "outputs": [],
   "source": [
    "# random_projection = SparseRandomProjection(n_components=k, random_state=42)\n",
    "# reduced_data = random_projection.fit_transform(X_train)\n",
    "\n",
    "# reduced_df = pd.DataFrame(reduced_data, columns=[f\"Feature_{i+1}\" for i in range(reduced_data.shape[1])])\n",
    "# reduced_df.to_csv('JL_Sparse.csv', index=False)"
   ]
  }
 ],
 "metadata": {
  "kernelspec": {
   "display_name": "Python 3",
   "language": "python",
   "name": "python3"
  },
  "language_info": {
   "codemirror_mode": {
    "name": "ipython",
    "version": 3
   },
   "file_extension": ".py",
   "mimetype": "text/x-python",
   "name": "python",
   "nbconvert_exporter": "python",
   "pygments_lexer": "ipython3",
   "version": "3.11.9"
  }
 },
 "nbformat": 4,
 "nbformat_minor": 2
}
